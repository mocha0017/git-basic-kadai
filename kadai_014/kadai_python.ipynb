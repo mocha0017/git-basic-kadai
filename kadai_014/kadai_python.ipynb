{
  "nbformat": 4,
  "nbformat_minor": 0,
  "metadata": {
    "colab": {
      "provenance": []
    },
    "kernelspec": {
      "name": "python3",
      "display_name": "Python 3"
    },
    "language_info": {
      "name": "python"
    }
  },
  "cells": [
    {
      "cell_type": "code",
      "source": [
        "# 課題：変数スコープを正しく使おう\n",
        "# グローバルスコープとローカルスコープの違いを理解していること\n",
        "# スコープを意識したプログラムが書けること\n",
        "\n",
        "# [修正後]\n",
        "# グローバル変数を定義\n",
        "price1 = 100\n",
        "price2 = 200\n",
        "tax = 1.1\n",
        "\n",
        "# 金額の合計金額を計算する関数を定義\n",
        "def total():\n",
        "    return price1 + price2\n",
        "\n",
        "# 金額の合計金額を計算する関数に消費税を加算した結果を出力\n",
        "print(total() * tax)\n",
        "\n",
        "# [修正前]\n",
        "#price1 = 100\n",
        "#price2 = 200\n",
        "\n",
        "#def total():\n",
        "#    tax = 1.1\n",
        "#    return price1 + price2\n",
        "\n",
        "#print (total() * tax)\n"
      ],
      "metadata": {
        "colab": {
          "base_uri": "https://localhost:8080/"
        },
        "id": "-b5tTAHZ-QRN",
        "outputId": "41bfa99d-6c27-4786-9115-52842b82e82d"
      },
      "execution_count": 7,
      "outputs": [
        {
          "output_type": "stream",
          "name": "stdout",
          "text": [
            "330.0\n"
          ]
        }
      ]
    },
    {
      "cell_type": "code",
      "source": [
        "# 課題：関数を使いこなそう\n",
        "# 商品購入時の消費税を関数で計算するプログラムを作る\n",
        "# ・消費税を加えた計算結果を返す関数を記述する\n",
        "# ・「結果を返す関数」なので戻り値を使用する\n",
        "# ・第1引数に商品の金額、第2引数に消費税（10％）を設定する\n",
        "\n",
        "# 関数の戻り値\n",
        "# 計算結果を設定する変数\n",
        "purchaseprice = 0\n",
        "\n",
        "# 消費税を加えた計算結果を返す関数を記述する\n",
        "def calc_purchaseprice(price: int, shipping_fee: float) -> float:\n",
        "    # 与えられた引数priceと引数shipping_feeを加算し、変数totalに代入する\n",
        "    total = price * (1 + shipping_fee)\n",
        "\n",
        "    # 変数totalの値を出力する\n",
        "    print(f\"{total}円\")\n",
        "\n",
        "    return total\n",
        "\n",
        "# 関数を呼び出し、引数に商品の金額と消費税を設定する\n",
        "purchaseprice = calc_purchaseprice(1700, 0.1)\n",
        "# 変数totalの値を出力する\n",
        "print(f\"計算結果は{purchaseprice}円です。\")"
      ],
      "metadata": {
        "colab": {
          "base_uri": "https://localhost:8080/"
        },
        "id": "mHg96X4-pf9z",
        "outputId": "8babe67c-911c-4ee3-fad6-e5add5973f1d"
      },
      "execution_count": 3,
      "outputs": [
        {
          "output_type": "stream",
          "name": "stdout",
          "text": [
            "1870.0000000000002円\n",
            "計算結果は1870.0000000000002円です。\n"
          ]
        }
      ]
    },
    {
      "cell_type": "code",
      "source": [
        "# 課題：繰り返し処理を使いこなそう\n",
        "# リストの内容を先頭からすべて取り出すプログラムをfor、Whileそれぞれを利用して記述する。\n",
        "\n",
        "# リストの内容\n",
        "array = [\"水\", \"金\", \"地\", \"火\", \"木\", \"土\", \"天\", \"海\", \"冥\"]\n",
        "\n",
        "# for文で取り出す\n",
        "for value in array:\n",
        "    # リストの値を出力\n",
        "    print(value)\n",
        "\n",
        "# while文で取り出す\n",
        "index = 0\n",
        "while index < len(array):\n",
        "    # リストの値を出力\n",
        "    print(array[index])\n",
        "\n",
        "    # indexの値をインクリメント\n",
        "    index = index + 1\n"
      ],
      "metadata": {
        "colab": {
          "base_uri": "https://localhost:8080/"
        },
        "id": "wPYvaPSXQjyu",
        "outputId": "4adfde28-22b3-44f5-e6fc-ac23692e04f9"
      },
      "execution_count": null,
      "outputs": [
        {
          "output_type": "stream",
          "name": "stdout",
          "text": [
            "水\n",
            "金\n",
            "地\n",
            "火\n",
            "木\n",
            "土\n",
            "天\n",
            "海\n",
            "冥\n",
            "水\n",
            "金\n",
            "地\n",
            "火\n",
            "木\n",
            "土\n",
            "天\n",
            "海\n",
            "冥\n"
          ]
        }
      ]
    },
    {
      "cell_type": "code",
      "source": [
        "# 課題：条件分岐のif文で処理を切り替えよう\n",
        "# if文を用いて、以下の条件分岐をするコードを記述する。値はprint関数で出力。\n",
        "# ・変数varが、3の倍数の場合は「Fizz」を出力\n",
        "# ・変数varが、5の倍数の場合は「Buzz」を出力\n",
        "# ・変数varが、3の倍数と5の倍数の場合は「FizzBuzz」を出力\n",
        "# ・上記のどの場合にも該当しない場合は、変数varの値を出力\n",
        "\n",
        "# # ランダムな整数を利用するために、randomモジュールをインポート\n",
        "import random\n",
        "\n",
        "# 変数numに0～4までのランダムな整数を代入する\n",
        "var = random.randint(1,20)\n",
        "print(var)\n",
        "\n",
        "if var % 3 == 0 and var % 5 == 0:\n",
        "    print(\"FizzBuzz\")\n",
        "elif var % 3 == 0:\n",
        "    print(\"Fizz\")\n",
        "elif var % 5 == 0:\n",
        "    print(\"Buzz\")\n",
        "else:\n",
        "    print(var)\n"
      ],
      "metadata": {
        "colab": {
          "base_uri": "https://localhost:8080/"
        },
        "id": "mPYglfox5uIB",
        "outputId": "da78cd33-bf4a-43c0-b890-4688aeac8820"
      },
      "execution_count": null,
      "outputs": [
        {
          "output_type": "stream",
          "name": "stdout",
          "text": [
            "5\n",
            "Buzz\n"
          ]
        }
      ]
    },
    {
      "cell_type": "code",
      "execution_count": null,
      "metadata": {
        "colab": {
          "base_uri": "https://localhost:8080/"
        },
        "id": "Z-xaCBwbsjAp",
        "outputId": "ebe917ab-f5c7-427c-b319-30355cd748de"
      },
      "outputs": [
        {
          "output_type": "stream",
          "name": "stdout",
          "text": [
            "水曜日は晴れです\n",
            "晴れ\n"
          ]
        }
      ],
      "source": [
        "# 課題：リスト／ディクショナリを使いこなそう\n",
        "# リスト（array）とディクショナリ（dictionary）をそれぞれ作成し、水曜日の天気予報を取り出して出力する。\n",
        "\n",
        "# 「array」という名前のリストを作成\n",
        "array = [\"月曜日は晴れです\", \"火曜日は雨です\", \"水曜日は晴れです\", \"木曜日は晴れです\", \"金曜日は曇りです\", \"土曜日は曇りのち雨です\", \"日曜日は雷雨です\"]\n",
        "# 水曜日の天気予報を取り出す\n",
        "print(array[2])\n",
        "\n",
        "# 「dictionary」という名前のディレクトリを作成\n",
        "dictionary = {\"mon\":\"晴れ\", \"tue\":\"雨\", \"wed\":\"晴れ\", \"thu\":\"晴れ\", \"fri\":\"曇り\", \"sat\":\"曇りのち雨\", \"sun\":\"雷雨\"}\n",
        "# 水曜日の天気予報を取り出す\n",
        "print(dictionary[\"wed\"])\n"
      ]
    }
  ]
}