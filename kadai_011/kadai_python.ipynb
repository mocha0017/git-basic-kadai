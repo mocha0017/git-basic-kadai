{
  "nbformat": 4,
  "nbformat_minor": 0,
  "metadata": {
    "colab": {
      "provenance": []
    },
    "kernelspec": {
      "name": "python3",
      "display_name": "Python 3"
    },
    "language_info": {
      "name": "python"
    }
  },
  "cells": [
    {
      "cell_type": "code",
      "source": [
        "# 課題：繰り返し処理を使いこなそう\n",
        "# リストの内容を先頭からすべて取り出すプログラムをfor、Whileそれぞれを利用して記述する。\n",
        "\n",
        "# リストの内容\n",
        "array = [\"水\", \"金\", \"地\", \"火\", \"木\", \"土\", \"天\", \"海\", \"冥\"]\n",
        "\n",
        "# for文で取り出す\n",
        "for value in array:\n",
        "    # リストの値を出力\n",
        "    print(value)\n",
        "\n",
        "# while文で取り出す\n",
        "index = 0\n",
        "while index < len(array):\n",
        "    # リストの値を出力\n",
        "    print(array[index])\n",
        "\n",
        "    # indexの値をインクリメント\n",
        "    index = index + 1\n",
        ""
      ],
      "metadata": {
        "colab": {
          "base_uri": "https://localhost:8080/"
        },
        "id": "wPYvaPSXQjyu",
        "outputId": "4adfde28-22b3-44f5-e6fc-ac23692e04f9"
      },
      "execution_count": 10,
      "outputs": [
        {
          "output_type": "stream",
          "name": "stdout",
          "text": [
            "水\n",
            "金\n",
            "地\n",
            "火\n",
            "木\n",
            "土\n",
            "天\n",
            "海\n",
            "冥\n",
            "水\n",
            "金\n",
            "地\n",
            "火\n",
            "木\n",
            "土\n",
            "天\n",
            "海\n",
            "冥\n"
          ]
        }
      ]
    },
    {
      "cell_type": "code",
      "source": [
        "# 課題：条件分岐のif文で処理を切り替えよう\n",
        "# if文を用いて、以下の条件分岐をするコードを記述する。値はprint関数で出力。\n",
        "# ・変数varが、3の倍数の場合は「Fizz」を出力\n",
        "# ・変数varが、5の倍数の場合は「Buzz」を出力\n",
        "# ・変数varが、3の倍数と5の倍数の場合は「FizzBuzz」を出力\n",
        "# ・上記のどの場合にも該当しない場合は、変数varの値を出力\n",
        "\n",
        "# # ランダムな整数を利用するために、randomモジュールをインポート\n",
        "import random\n",
        "\n",
        "# 変数numに0～4までのランダムな整数を代入する\n",
        "var = random.randint(1,20)\n",
        "print(var)\n",
        "\n",
        "if var % 3 == 0 and var % 5 == 0:\n",
        "    print(\"FizzBuzz\")\n",
        "elif var % 3 == 0:\n",
        "    print(\"Fizz\")\n",
        "elif var % 5 == 0:\n",
        "    print(\"Buzz\")\n",
        "else:\n",
        "    print(var)\n"
      ],
      "metadata": {
        "colab": {
          "base_uri": "https://localhost:8080/"
        },
        "id": "mPYglfox5uIB",
        "outputId": "da78cd33-bf4a-43c0-b890-4688aeac8820"
      },
      "execution_count": null,
      "outputs": [
        {
          "output_type": "stream",
          "name": "stdout",
          "text": [
            "5\n",
            "Buzz\n"
          ]
        }
      ]
    },
    {
      "cell_type": "code",
      "execution_count": null,
      "metadata": {
        "colab": {
          "base_uri": "https://localhost:8080/"
        },
        "id": "Z-xaCBwbsjAp",
        "outputId": "ebe917ab-f5c7-427c-b319-30355cd748de"
      },
      "outputs": [
        {
          "output_type": "stream",
          "name": "stdout",
          "text": [
            "水曜日は晴れです\n",
            "晴れ\n"
          ]
        }
      ],
      "source": [
        "# 課題：リスト／ディクショナリを使いこなそう\n",
        "# リスト（array）とディクショナリ（dictionary）をそれぞれ作成し、水曜日の天気予報を取り出して出力する。\n",
        "\n",
        "# 「array」という名前のリストを作成\n",
        "array = [\"月曜日は晴れです\", \"火曜日は雨です\", \"水曜日は晴れです\", \"木曜日は晴れです\", \"金曜日は曇りです\", \"土曜日は曇りのち雨です\", \"日曜日は雷雨です\"]\n",
        "# 水曜日の天気予報を取り出す\n",
        "print(array[2])\n",
        "\n",
        "# 「dictionary」という名前のディレクトリを作成\n",
        "dictionary = {\"mon\":\"晴れ\", \"tue\":\"雨\", \"wed\":\"晴れ\", \"thu\":\"晴れ\", \"fri\":\"曇り\", \"sat\":\"曇りのち雨\", \"sun\":\"雷雨\"}\n",
        "# 水曜日の天気予報を取り出す\n",
        "print(dictionary[\"wed\"])\n"
      ]
    }
  ]
}