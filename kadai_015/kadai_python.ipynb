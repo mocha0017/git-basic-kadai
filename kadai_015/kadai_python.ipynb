{
  "cells": [
    {
      "cell_type": "code",
      "execution_count": 2,
      "metadata": {
        "colab": {
          "base_uri": "https://localhost:8080/"
        },
        "id": "-b5tTAHZ-QRN",
        "outputId": "ca33854f-5eb8-4519-ddfb-aec14d3be60b"
      },
      "outputs": [
        {
          "name": "stdout",
          "output_type": "stream",
          "text": [
            "侍太郎\n",
            "17\n"
          ]
        }
      ],
      "source": [
        "# 課題：クラスを使いこなそう\n",
        "# 名前(name)と年齢(age)の属性をもつHumanクラスを作成する\n",
        "# nameとageを標準出力(print)するメソッド(printinfo)を追加する\n",
        "\n",
        "# クラスの定義\n",
        "class Human:\n",
        "    def __init__(self,name, age):\n",
        "        # 属性の定義\n",
        "        self.name = name\n",
        "        self.age = age\n",
        "\n",
        "    # メソッドの定義（nameとageを出力する）\n",
        "    def printinfo(self):\n",
        "        print(self.name)\n",
        "        print(self.age)\n",
        "\n",
        "# インスタンス化\n",
        "human = Human(\"侍太郎\", \"17\")\n",
        "\n",
        "# メソッドにアクセスし、値を出力する\n",
        "human.printinfo()\n"
      ]
    }
  ],
  "metadata": {
    "colab": {
      "provenance": []
    },
    "kernelspec": {
      "display_name": "Python 3",
      "name": "python3"
    },
    "language_info": {
      "name": "python"
    }
  },
  "nbformat": 4,
  "nbformat_minor": 0
}
