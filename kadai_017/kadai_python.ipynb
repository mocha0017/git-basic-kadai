{
  "cells": [
    {
      "cell_type": "code",
      "execution_count": 4,
      "metadata": {
        "colab": {
          "base_uri": "https://localhost:8080/"
        },
        "id": "ZkRJFc2N0nJx",
        "outputId": "eb16928b-624b-42a8-c599-dcde76e9bb88"
      },
      "outputs": [
        {
          "name": "stdout",
          "output_type": "stream",
          "text": [
            "侍太郎は大人です。\n",
            "侍二郎は大人です。\n",
            "侍三郎は大人ではありません。\n"
          ]
        }
      ],
      "source": [
        "# 課題：学習したことを組み合わせてコードを書こう\n",
        "# 名前(name)と年齢(age)の属性をもつHumanクラスを作成する\n",
        "# Humanクラスには、以下の条件で標準出力(print)するメソッド(check_adult)を追加する\n",
        "# └ageが20以上の場合に大人であること\n",
        "# └そうでない場合に大人でないこと\n",
        "# Humanクラスのインスタンスを複数生成してリストに追加し、リストの要素数だけcheck_adultメソッドを呼び出す。\n",
        "\n",
        "# クラスの定義\n",
        "class Human:\n",
        "    def __init__(self,name, age):\n",
        "        # 属性の定義\n",
        "        self.name = name\n",
        "        self.age = age\n",
        "\n",
        "    # メソッドの定義（以下の条件でメッセージを出力する）\n",
        "    def check_adult(self):\n",
        "        if self.age >= 20:\n",
        "            print(f\"{self.name}は大人です。\")\n",
        "        else:\n",
        "            print(f\"{self.name}は大人ではありません。\")\n",
        "\n",
        "# Humanクラスのインスタンスを複数生成し、リストに追加\n",
        "humans = [\n",
        "    Human(\"侍太郎\", 30),\n",
        "    Human(\"侍二郎\", 20),\n",
        "    Human(\"侍三郎\", 19)\n",
        "]\n",
        "\n",
        "# リストの要素数だけメソッドにアクセスし、値を出力する\n",
        "for person in humans:\n",
        "    person.check_adult()"
      ]
    }
  ],
  "metadata": {
    "colab": {
      "provenance": []
    },
    "kernelspec": {
      "display_name": "Python 3",
      "name": "python3"
    },
    "language_info": {
      "codemirror_mode": {
        "name": "ipython",
        "version": 3
      },
      "file_extension": ".py",
      "mimetype": "text/x-python",
      "name": "python",
      "nbconvert_exporter": "python",
      "pygments_lexer": "ipython3",
      "version": "3.12.5"
    }
  },
  "nbformat": 4,
  "nbformat_minor": 0
}
