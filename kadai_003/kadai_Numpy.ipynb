{
  "nbformat": 4,
  "nbformat_minor": 0,
  "metadata": {
    "colab": {
      "provenance": []
    },
    "kernelspec": {
      "name": "python3",
      "display_name": "Python 3"
    },
    "language_info": {
      "name": "python"
    }
  },
  "cells": [
    {
      "cell_type": "code",
      "execution_count": 8,
      "metadata": {
        "colab": {
          "base_uri": "https://localhost:8080/"
        },
        "id": "ES3ABA4GVzRK",
        "outputId": "13d50a6e-8752-418c-ae21-e193c113be54"
      },
      "outputs": [
        {
          "output_type": "stream",
          "name": "stdout",
          "text": [
            "Aは[[0 1]\n",
            " [2 3]\n",
            " [4 5]]です。\n",
            "Bは[[0 1 2 3]\n",
            " [4 5 6 7]]です。\n",
            "AとBの行列の積は[[ 4  5  6  7]\n",
            " [12 17 22 27]\n",
            " [20 29 38 47]]です。\n",
            "計算された行列の要素の最大値は47です。\n"
          ]
        }
      ],
      "source": [
        "# 課題：NumPyで配列の操作や演算をしよう\n",
        "# NumPyを利用して、2つの行列の積を計算して結果を表示する\n",
        "# 計算された行列の要素の最大値を求めて表示する\n",
        "\n",
        "import numpy as np\n",
        "\n",
        "# 多次元配列Aを作成\n",
        "A = np.arange(6).reshape(3, 2)\n",
        "print(f\"Aは{A}です。\")\n",
        "\n",
        "# 多次元配列Bを作成\n",
        "B = np.arange(8).reshape(2, 4)\n",
        "print(f\"Bは{B}です。\")\n",
        "\n",
        "# AとBの行列の積を計算\n",
        "Result = np.dot(A, B)\n",
        "print(f\"AとBの行列の積は{Result}です。\")\n",
        "\n",
        "# 計算された行列の要素の最大値を求める\n",
        "Result2 = np.max(Result)\n",
        "print(f\"計算された行列の要素の最大値は{Result2}です。\")\n"
      ]
    },
    {
      "cell_type": "code",
      "source": [],
      "metadata": {
        "id": "iPBTlbwRY1ID"
      },
      "execution_count": null,
      "outputs": []
    }
  ]
}