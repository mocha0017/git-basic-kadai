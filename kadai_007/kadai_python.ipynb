{
  "nbformat": 4,
  "nbformat_minor": 0,
  "metadata": {
    "colab": {
      "provenance": []
    },
    "kernelspec": {
      "name": "python3",
      "display_name": "Python 3"
    },
    "language_info": {
      "name": "python"
    }
  },
  "cells": [
    {
      "cell_type": "code",
      "execution_count": 1,
      "metadata": {
        "colab": {
          "base_uri": "https://localhost:8080/"
        },
        "id": "Z-xaCBwbsjAp",
        "outputId": "ebe917ab-f5c7-427c-b319-30355cd748de"
      },
      "outputs": [
        {
          "output_type": "stream",
          "name": "stdout",
          "text": [
            "水曜日は晴れです\n",
            "晴れ\n"
          ]
        }
      ],
      "source": [
        "# 課題：リスト／ディクショナリを使いこなそう\n",
        "# リスト（array）とディクショナリ（dictionary）をそれぞれ作成し、水曜日の天気予報を取り出して出力する。\n",
        "\n",
        "# 「array」という名前のリストを作成\n",
        "array = [\"月曜日は晴れです\", \"火曜日は雨です\", \"水曜日は晴れです\", \"木曜日は晴れです\", \"金曜日は曇りです\", \"土曜日は曇りのち雨です\", \"日曜日は雷雨です\"]\n",
        "# 水曜日の天気予報を取り出す\n",
        "print(array[2])\n",
        "\n",
        "# 「dictionary」という名前のディレクトリを作成\n",
        "dictionary = {\"mon\":\"晴れ\", \"tue\":\"雨\", \"wed\":\"晴れ\", \"thu\":\"晴れ\", \"fri\":\"曇り\", \"sat\":\"曇りのち雨\", \"sun\":\"雷雨\"}\n",
        "# 水曜日の天気予報を取り出す\n",
        "print(dictionary[\"wed\"])\n"
      ]
    }
  ]
}